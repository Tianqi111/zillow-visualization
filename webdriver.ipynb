{
 "cells": [
  {
   "cell_type": "code",
   "execution_count": 1,
   "id": "fbf774b3",
   "metadata": {},
   "outputs": [
    {
     "name": "stdout",
     "output_type": "stream",
     "text": [
      "Requirement already satisfied: selenium in /opt/anaconda3/lib/python3.9/site-packages (4.1.0)\n",
      "Requirement already satisfied: trio-websocket~=0.9 in /opt/anaconda3/lib/python3.9/site-packages (from selenium) (0.9.2)\n",
      "Requirement already satisfied: trio~=0.17 in /opt/anaconda3/lib/python3.9/site-packages (from selenium) (0.19.0)\n",
      "Requirement already satisfied: urllib3[secure]~=1.26 in /opt/anaconda3/lib/python3.9/site-packages (from selenium) (1.26.7)\n",
      "Requirement already satisfied: idna in /opt/anaconda3/lib/python3.9/site-packages (from trio~=0.17->selenium) (3.2)\n",
      "Requirement already satisfied: sortedcontainers in /opt/anaconda3/lib/python3.9/site-packages (from trio~=0.17->selenium) (2.4.0)\n",
      "Requirement already satisfied: attrs>=19.2.0 in /opt/anaconda3/lib/python3.9/site-packages (from trio~=0.17->selenium) (21.2.0)\n",
      "Requirement already satisfied: sniffio in /opt/anaconda3/lib/python3.9/site-packages (from trio~=0.17->selenium) (1.2.0)\n",
      "Requirement already satisfied: outcome in /opt/anaconda3/lib/python3.9/site-packages (from trio~=0.17->selenium) (1.1.0)\n",
      "Requirement already satisfied: async-generator>=1.9 in /opt/anaconda3/lib/python3.9/site-packages (from trio~=0.17->selenium) (1.10)\n",
      "Requirement already satisfied: wsproto>=0.14 in /opt/anaconda3/lib/python3.9/site-packages (from trio-websocket~=0.9->selenium) (1.0.0)\n",
      "Requirement already satisfied: pyOpenSSL>=0.14 in /opt/anaconda3/lib/python3.9/site-packages (from urllib3[secure]~=1.26->selenium) (21.0.0)\n",
      "Requirement already satisfied: cryptography>=1.3.4 in /opt/anaconda3/lib/python3.9/site-packages (from urllib3[secure]~=1.26->selenium) (3.4.8)\n",
      "Requirement already satisfied: certifi in /opt/anaconda3/lib/python3.9/site-packages (from urllib3[secure]~=1.26->selenium) (2021.10.8)\n",
      "Requirement already satisfied: cffi>=1.12 in /opt/anaconda3/lib/python3.9/site-packages (from cryptography>=1.3.4->urllib3[secure]~=1.26->selenium) (1.14.6)\n",
      "Requirement already satisfied: pycparser in /opt/anaconda3/lib/python3.9/site-packages (from cffi>=1.12->cryptography>=1.3.4->urllib3[secure]~=1.26->selenium) (2.20)\n",
      "Requirement already satisfied: six>=1.5.2 in /opt/anaconda3/lib/python3.9/site-packages (from pyOpenSSL>=0.14->urllib3[secure]~=1.26->selenium) (1.16.0)\n",
      "Requirement already satisfied: h11<1,>=0.9.0 in /opt/anaconda3/lib/python3.9/site-packages (from wsproto>=0.14->trio-websocket~=0.9->selenium) (0.12.0)\n",
      "Requirement already satisfied: chromedriver-autoinstaller in /opt/anaconda3/lib/python3.9/site-packages (0.2.2)\n"
     ]
    }
   ],
   "source": [
    "import sys\n",
    "!{sys.executable} -m pip install selenium\n",
    "!{sys.executable} -m pip install chromedriver-autoinstaller"
   ]
  },
  {
   "cell_type": "code",
   "execution_count": 2,
   "id": "13c74a35",
   "metadata": {},
   "outputs": [],
   "source": [
    "from bs4 import BeautifulSoup\n",
    "import requests\n",
    "from selenium import webdriver\n",
    "import time"
   ]
  },
  {
   "cell_type": "code",
   "execution_count": 3,
   "id": "009d465f",
   "metadata": {},
   "outputs": [],
   "source": [
    "header = {\n",
    "    \"User-Agent\": \"Mozilla/5.0 (Macintosh; Intel Mac OS X 10_15_5) AppleWebKit/537.36 (KHTML, like Gecko) Chrome/84.0.4147.125 Safari/537.36\",\n",
    "    \"Accept-Language\": \"en-GB,en-US;q=0.9,en;q=0.8\"\n",
    "}"
   ]
  },
  {
   "cell_type": "code",
   "execution_count": 4,
   "id": "a79159f4",
   "metadata": {},
   "outputs": [],
   "source": [
    "response = requests.get('https://www.zillow.com/san-francisco-ca/rentals/?searchQueryState=%7B%22pagination%22%3A%7B%7D%2C%22mapBounds%22%3A%7B%22west%22%3A-122.77407683325195%2C%22east%22%3A-122.20759428930664%2C%22south%22%3A37.58563344358383%2C%22north%22%3A37.908142595089735%7D%2C%22regionSelection%22%3A%5B%7B%22regionId%22%3A20330%2C%22regionType%22%3A6%7D%5D%2C%22isMapVisible%22%3Atrue%2C%22filterState%22%3A%7B%22fsba%22%3A%7B%22value%22%3Afalse%7D%2C%22fsbo%22%3A%7B%22value%22%3Afalse%7D%2C%22nc%22%3A%7B%22value%22%3Afalse%7D%2C%22fore%22%3A%7B%22value%22%3Afalse%7D%2C%22cmsn%22%3A%7B%22value%22%3Afalse%7D%2C%22auc%22%3A%7B%22value%22%3Afalse%7D%2C%22fr%22%3A%7B%22value%22%3Atrue%7D%2C%22ah%22%3A%7B%22value%22%3Atrue%7D%7D%2C%22isListVisible%22%3Atrue%2C%22mapZoom%22%3A11%7D', headers = header)\n",
    "data = response.text\n",
    "soup = BeautifulSoup(data, \"html.parser\")"
   ]
  },
  {
   "cell_type": "code",
   "execution_count": 5,
   "id": "282c3fc5",
   "metadata": {
    "scrolled": true
   },
   "outputs": [
    {
     "data": {
      "text/plain": [
       "['https://www.zillow.com/b/fox-plaza-san-francisco-ca-5Xj2b8/',\n",
       " 'https://www.zillow.com/homedetails/74-States-St-San-Francisco-CA-94114/2097906199_zpid/',\n",
       " 'https://www.zillow.com/homedetails/1761-9th-Ave-San-Francisco-CA-94122/2067439820_zpid/',\n",
       " 'https://www.zillow.com/b/soma-at-788-san-francisco-ca-5XkGzw/',\n",
       " 'https://www.zillow.com/b/mason-on-mariposa-san-francisco-ca-9NK3x3/',\n",
       " 'https://www.zillow.com/b/bayside-village-san-francisco-ca-5Xk2zx/',\n",
       " 'https://www.zillow.com/homedetails/3434-State-Highway-1-San-Francisco-CA-94118/2079318820_zpid/',\n",
       " 'https://www.zillow.com/homedetails/1125-Francisco-St-APT-8-San-Francisco-CA-94109/15070571_zpid/',\n",
       " 'https://www.zillow.com/homedetails/102-Richland-Ave-San-Francisco-CA-94110/2067440175_zpid/']"
      ]
     },
     "execution_count": 5,
     "metadata": {},
     "output_type": "execute_result"
    }
   ],
   "source": [
    "all_link_elements = soup.select(\".list-card-top a\")\n",
    "\n",
    "all_links = []\n",
    "for link in all_link_elements:\n",
    "    href = link[\"href\"]\n",
    "    if \"http\" not in href:\n",
    "        all_links.append(f\"https://www.zillow.com{href}\")\n",
    "    else:\n",
    "        all_links.append(href)\n",
    "all_links"
   ]
  },
  {
   "cell_type": "code",
   "execution_count": 6,
   "id": "575e7616",
   "metadata": {},
   "outputs": [
    {
     "data": {
      "text/plain": [
       "['1390 Market St, San Francisco, CA',\n",
       " '74 States St, San Francisco, CA 94114',\n",
       " '1761 9th Ave, San Francisco, CA 94122',\n",
       " '788 Harrison St, San Francisco, CA',\n",
       " '1601 Mariposa St, San Francisco, CA',\n",
       " '3 Bayside Village Pl, San Francisco, CA',\n",
       " '3434 State Highway 1, San Francisco, CA 94118',\n",
       " '1125 Francisco St APT 8, San Francisco, CA 94109',\n",
       " '102 Richland Ave, San Francisco, CA 94110']"
      ]
     },
     "execution_count": 6,
     "metadata": {},
     "output_type": "execute_result"
    }
   ],
   "source": [
    "all_address_elements = soup.select(\".list-card-info address\")\n",
    "all_addresses = [address.get_text().split(\" | \")[-1] for address in all_address_elements]\n",
    "all_addresses "
   ]
  },
  {
   "cell_type": "code",
   "execution_count": 7,
   "id": "5e9d78c7",
   "metadata": {},
   "outputs": [
    {
     "data": {
      "text/plain": [
       "['$1,963',\n",
       " '$4,695/mo',\n",
       " '$4,500/mo',\n",
       " '$2,513',\n",
       " '$2,750',\n",
       " '$2,640',\n",
       " '$3,000/mo',\n",
       " '$4,995/mo',\n",
       " '$3,750/mo']"
      ]
     },
     "execution_count": 7,
     "metadata": {},
     "output_type": "execute_result"
    }
   ],
   "source": [
    "all_price_elements = soup.select(\".list-card-price\")\n",
    "all_prices = [price.get_text().split(\"+\")[0] for price in all_price_elements if \"$\" in price.text]\n",
    "all_prices"
   ]
  },
  {
   "cell_type": "code",
   "execution_count": 8,
   "id": "3e939500",
   "metadata": {},
   "outputs": [],
   "source": [
    "import chromedriver_autoinstaller\n",
    "chromedriver_autoinstaller.install()  \n",
    "browser = webdriver.Chrome()"
   ]
  },
  {
   "cell_type": "code",
   "execution_count": 9,
   "id": "cb416d7d",
   "metadata": {},
   "outputs": [
    {
     "name": "stderr",
     "output_type": "stream",
     "text": [
      "/var/folders/7d/26xjnnps5_5b17xfxzmcg7v40000gn/T/ipykernel_55270/3004901624.py:6: DeprecationWarning: find_element_by_* commands are deprecated. Please use find_element() instead\n",
      "  address = browser.find_element_by_xpath(\n",
      "/var/folders/7d/26xjnnps5_5b17xfxzmcg7v40000gn/T/ipykernel_55270/3004901624.py:8: DeprecationWarning: find_element_by_* commands are deprecated. Please use find_element() instead\n",
      "  price = browser.find_element_by_xpath(\n",
      "/var/folders/7d/26xjnnps5_5b17xfxzmcg7v40000gn/T/ipykernel_55270/3004901624.py:10: DeprecationWarning: find_element_by_* commands are deprecated. Please use find_element() instead\n",
      "  link = browser.find_element_by_xpath(\n",
      "/var/folders/7d/26xjnnps5_5b17xfxzmcg7v40000gn/T/ipykernel_55270/3004901624.py:12: DeprecationWarning: find_element_by_* commands are deprecated. Please use find_element() instead\n",
      "  submit_button = browser.find_element_by_xpath('//*[@id=\"mG61Hd\"]/div[2]/div/div[3]/div[1]/div[1]/div/span/span')\n"
     ]
    }
   ],
   "source": [
    "for n in range(len(all_links)):\n",
    "    # my own Google Form URL \n",
    "    browser.get(\"https://docs.google.com/forms/d/e/1FAIpQLScEm7SDwSYvZgtLB9MNkyb6OKp3eJcQFTZxtWA-LtdIwjkD-Q/viewform?usp=sf_link\")\n",
    "\n",
    "    time.sleep(2)\n",
    "    address = browser.find_element_by_xpath(\n",
    "        '//*[@id=\"mG61Hd\"]/div[2]/div/div[2]/div[1]/div/div/div[2]/div/div[1]/div/div[1]/input')\n",
    "    price = browser.find_element_by_xpath(\n",
    "        '//*[@id=\"mG61Hd\"]/div[2]/div/div[2]/div[2]/div/div/div[2]/div/div[1]/div/div[1]/input')\n",
    "    link = browser.find_element_by_xpath(\n",
    "        '//*[@id=\"mG61Hd\"]/div[2]/div/div[2]/div[3]/div/div/div[2]/div/div[1]/div/div[1]/input')\n",
    "    submit_button = browser.find_element_by_xpath('//*[@id=\"mG61Hd\"]/div[2]/div/div[3]/div[1]/div[1]/div/span/span')\n",
    "\n",
    "    address.send_keys(all_addresses[n])\n",
    "    price.send_keys(all_prices[n])\n",
    "    link.send_keys(all_links[n])\n",
    "    submit_button.click()"
   ]
  },
  {
   "cell_type": "code",
   "execution_count": null,
   "id": "c83a41d0",
   "metadata": {},
   "outputs": [],
   "source": []
  },
  {
   "cell_type": "code",
   "execution_count": null,
   "id": "b362bd38",
   "metadata": {},
   "outputs": [],
   "source": []
  }
 ],
 "metadata": {
  "kernelspec": {
   "display_name": "Python 3 (ipykernel)",
   "language": "python",
   "name": "python3"
  },
  "language_info": {
   "codemirror_mode": {
    "name": "ipython",
    "version": 3
   },
   "file_extension": ".py",
   "mimetype": "text/x-python",
   "name": "python",
   "nbconvert_exporter": "python",
   "pygments_lexer": "ipython3",
   "version": "3.9.7"
  }
 },
 "nbformat": 4,
 "nbformat_minor": 5
}
